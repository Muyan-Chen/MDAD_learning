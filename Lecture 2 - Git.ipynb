{
 "cells": [
  {
   "cell_type": "markdown",
   "metadata": {},
   "source": [
    "  <style>\n",
    "    .container {\n",
    "      display: flex;\n",
    "      justify-content: space-between;\n",
    "      align-items: center;\n",
    "    }\n",
    "\n",
    "    .text {\n",
    "      width: 95%;\n",
    "       text-align: center;\n",
    "    }\n",
    "\n",
    "    .image {\n",
    "      width: 5%;\n",
    "      text-align: center; \n",
    "    }\n",
    "\n",
    "    /* Stile opzionale per rendere l'immagine responsive */\n",
    "    .image img {\n",
    "      max-width: 100%;\n",
    "      height: auto;\n",
    "    }\n",
    "  </style> \n",
    "  \n",
    "  <div class=\"container\">\n",
    "    <div class=\"image\">\n",
    "      <img src=\"https://upload.wikimedia.org/wikipedia/commons/thumb/3/3a/Logo_KIT.svg/1200px-Logo_KIT.svg.png\" width=100 height=50/>\n",
    "    </div>\n",
    "        <div class=\"text\">\n",
    "      <h1> Medical Image Processing and Navigation 2023/24</h1>\n",
    "    </div>\n",
    "  </div>\n",
    "\n",
    "---\n",
    "\n",
    "<center>\n",
    "<h2>Lecture 2.1 - Git</h2> \n",
    "<img src=\"https://upload.wikimedia.org/wikipedia/commons/thumb/e/e0/Git-logo.svg/1280px-Git-logo.svg.png\" width=200 height=100/>\n",
    "\n",
    "\n",
    "---\n",
    "\n",
    "<center>\n",
    "Lecturer: <b><i>Ciro Benito Raggio</i></b> \n",
    "<br/>\n",
    "<a><href>https://www.ibt.kit.edu/english/Raggio_C.php</href></a>"
   ]
  },
  {
   "cell_type": "markdown",
   "metadata": {},
   "source": [
    "# What is Git in three points?"
   ]
  },
  {
   "cell_type": "markdown",
   "metadata": {},
   "source": [
    "1. Git is a **free** and **open source** distributed **version control system** designed to handle everything, from small to very large projects, with speed and efficiency.\n",
    "\n",
    "2. Git is the best choice for most software teams today. It has the functionality, performance, security and flexibility that most teams and individual developers need.\n",
    "\n",
    "3. If used well, the history of a Git repository is like the index of a book."
   ]
  },
  {
   "cell_type": "markdown",
   "metadata": {},
   "source": [
    "# Why is it useful?"
   ]
  },
  {
   "cell_type": "markdown",
   "metadata": {},
   "source": [
    "<h5> How many times has this happened to you? </h5>\n",
    "\n",
    "\n",
    "<center><img src=\"./assets/badversioning.png\">\n"
   ]
  },
  {
   "cell_type": "markdown",
   "metadata": {},
   "source": [
    "### ***Collaborative Work***\n",
    "Initially, ***cooperation poses a significant challenge when individuals aim to discuss a software product***. As understood, a project involves a collective effort, with each member potentially configuring distinct features for the code. A version control system serves as a valuable tool for developers to systematically monitor all modifications made to the source code. Alongside managing changes, it meticulously records the authorship of alterations, providing transparency on who made what changes and when.\n",
    "\n",
    "### ***Version Management***\n",
    "Concluding a project with one version is impossible! A version control system facilitates the organization of multiple iterations of a project, maintaining order in the source code. It permits the establishment of ***a new branch for every developer implementing alterations in the code***, ensure that these changes are vetted (reviewed and approved) by other developers before being merged into the original code.\n",
    "\n",
    "Upon obtaining approval from fellow contributors, the new code seamlessly integrates with the main source, becoming the latest project version. This approach enables individuals to work on a duplicate of the project, allowing them to make edits without impacting the efforts of others. ***They can commit changes when the task is completed***. Consequently, it amplifies productivity, augments team efficiency, and minimizes the potential for errors and conflicts.\n",
    "\n",
    "### ***Revision Retrieval***\n",
    "Another critical aspect involves reverting to previous versions. Whether our project resides on a local machine, an external drive, or a cloud system, the necessity to consistently back up the project becomes paramount, considering the likelihood of errors or issues. Consequently, users begin saving project versions incrementally.\n",
    "\n",
    "With a version control system meticulously tracking each modification, addressing a bug in the latest version becomes more straightforward. If the updated version proves faulty, reverting to the previous version is a smoother process. In the case of Git usage, this challenge is mitigated. Accessing the last saved project version or reverting to any previous state becomes seamless. This feature proves invaluable in recovering from disasters or unforeseen circumstances."
   ]
  },
  {
   "cell_type": "markdown",
   "metadata": {},
   "source": [
    "# How to use?\n",
    "Before we start working with Git commands, it is necessary that you understand what it represents."
   ]
  },
  {
   "cell_type": "markdown",
   "metadata": {},
   "source": [
    "## What is a Repository ? \n",
    "A repository is basically a special folder that tracks changes, building a history over time. ***This means that, if we delete the .git/ folder in our repository, then we delete our project’s history.***"
   ]
  },
  {
   "cell_type": "markdown",
   "metadata": {},
   "source": [
    "## Create a repository locally and then push it remotely"
   ]
  },
  {
   "cell_type": "markdown",
   "metadata": {},
   "source": [
    "The operation that allows us to create an empty Git repository is: `git init`.\n",
    "\n",
    "Let's see an example in which:\n",
    "1. move to a specific folder\n",
    "\n",
    "2. create a README.md file  \n",
    "\n",
    "3. ask Git to initialize a repository\n",
    "\n",
    "<center><img src=\"https://cdn-media-1.freecodecamp.org/images/1*Q_DUXRghgFQb9F47mUB6LQ.gif\"></img>\n",
    "\n",
    "[ref](https://www.freecodecamp.org/news/learn-the-basics-of-git-in-under-10-minutes-da548267cc91/)\n",
    "\n"
   ]
  },
  {
   "cell_type": "markdown",
   "metadata": {},
   "source": [
    "### Status of a file\n",
    "\n",
    "The next step might be to move the repository with the added file remotely!\n",
    "\n",
    "Before we do that, let's take a look at the flow to follow:\n",
    "\n",
    "<center> <img src=\"https://pbs.twimg.com/media/GEYQHS8aYAAI2Dk.jpg:large\" width=650 height=600 /> "
   ]
  },
  {
   "cell_type": "markdown",
   "metadata": {},
   "source": [
    "### Consider a file within our working directory, and **it can exist in three distinct states**. \n",
    "\n",
    "1. **Staged state:** This implies that the files containing the latest modifications are flagged to be committed to the local repository but have not been committed yet. ***They are in a pre-commit stage.***\n",
    "\n",
    "2. **Modified state:** In this state, the files with updated changes have not been stored in the local repository. These ***changes are still in the working directory and have not been officially recorded.***\n",
    "\n",
    "3. **Committed state:** When a file is committed, it means that the alterations made to the file are securely stored in the local repository. ***The changes are now part of the project's history.***\n",
    "\n",
    "\n",
    "### The Git commands that allow us to implement this flow\n",
    "\n",
    "- ***git add:***  This command is utilized to include a file from the working directory to the staging area. It prepares the file for the upcoming commit.\n",
    "\n",
    "- ***git commit:***  This command adds all staged files to the local repository. It captures the current state of the project, creating a snapshot in the version history.\n",
    "\n",
    "- ***git push:***  This command adds all committed files from the local repository to the remote repository. It ensures that all changes are visible to those with access to the remote repository.\n",
    "\n",
    "- ***git fetch:***  Used to retrieve files from the remote repository to the local repository, excluding the working directory. It updates the local repository with changes from the remote but keeps the working directory unchanged.\n",
    "\n",
    "- ***git merge:***  This command brings files from the local repository into the working directory. It merges changes into the current working branch.\n",
    "\n",
    "- ***git pull:***  A combination of git fetch and git merge, it retrieves files from the remote repository directly into the working directory. It updates the local repository and working directory simultaneously. Essentially, it's a convenient way to synchronize changes from the remote repository to our local environment.\n",
    "\n",
    "[Reference](https://www.freecodecamp.org/news/learn-the-basics-of-git-in-under-10-minutes-da548267cc91/)"
   ]
  },
  {
   "cell_type": "markdown",
   "metadata": {},
   "source": [
    "### So, what do we do to commit this README.md file to our local repository?\n",
    "\n",
    "1. **Add the file to file to the repository's staging area.** This prepares the file for the commit.\n",
    "    \n",
    "    `git add README.md`\n",
    "\n",
    "2. **Commit the changes**\n",
    "\n",
    "    Then, use the commit command to commit the file to the local repository. \n",
    "    \n",
    "    <h3>⚠️ ATTENTION ⚠️</h3>\n",
    "    \n",
    "    <b> You should always add a message describing what changes have been made to the files. Generally the message must be concise and explanatory, in this way, the history of our repository will be very clear and we will not have to investigate every commit.</b>\n",
    "\n",
    "    `git commit -m \"First commit: added README.md file\"`\n",
    "\n",
    "3. **Configure the remote repository**\n",
    "\n",
    "    At this point, we've added our changes to the local repository and are ready to publish our new repository remotely, so we need to add a source to our local repository (this is only done once, unless you want to update the source). \n",
    "    \n",
    "    ⚠️ Before doing this, we should make sure we have created a remote repository (we will see how to do this easily in the next steps)\n",
    "    \n",
    "    `git remote add origin <URL_of_our_remote_repository.git>`\n",
    "\n",
    "4. **Push to the remote repository**\n",
    "\n",
    "    Pretending we added our remote repository, we can push our commit to the remote repository:\n",
    "\n",
    "    `git push -u origin master`\n"
   ]
  },
  {
   "cell_type": "markdown",
   "metadata": {},
   "source": [
    "## Clone an existing repository"
   ]
  },
  {
   "cell_type": "markdown",
   "metadata": {},
   "source": [
    "But if the repository has already been created previously, how do I get a copy locally? Simply using the command:  `git clone <URL_of_repository.git>`"
   ]
  },
  {
   "cell_type": "markdown",
   "metadata": {},
   "source": [
    "## Update the local repository\n",
    "\n",
    "When we already have our repository locally, the code may have been modified by another team member remotely. So **to avoid conflicts, before starting our development, we must always make sure we are aligned to the remote repository**.\n",
    "\n",
    "To request the \"update\" of our local repository with the new changes, simply use the `git pull` command."
   ]
  },
  {
   "cell_type": "markdown",
   "metadata": {},
   "source": [
    "# Create and manage remote repository: GitHub vs GitLab"
   ]
  },
  {
   "cell_type": "markdown",
   "metadata": {},
   "source": [
    "\n",
    "<center><img src=\"https://atlacademy.az/images/cache/2a/2ae875_Screen-Shot-2020-12-21-at-12.56.03_crop_1094x655.png\" width=900 height=500/>"
   ]
  },
  {
   "cell_type": "markdown",
   "metadata": {},
   "source": [
    "***GitHub*** and ***GitLab*** are separate web-based Git repositories. \n",
    "\n",
    "Although commonly confused, they are owned and operated by different companies: GitHub by Microsoft and GitLab by its eponymous organization. \n",
    "\n",
    "They are each spaces for developers to work on Git projects, collaborate, and share and test their work.\n",
    "\n",
    "**What do these services offer?**\n",
    "- cloud-based storage\n",
    "- issue trackers that allow to resolve several problems simultaneously\n",
    "- free and paid plans available\n",
    "- extensive third-party integrations\n",
    "- open-source code and projects\n",
    "- project management and other tools for developers\n",
    "\n",
    "GitHub and GitLab sharing some similarities, but they diverge significantly in their underlying philosophies.\n",
    "\n",
    "GitHub, being the elder of the two, adopts a distinctive approach, prioritizing the cultivation of a robust community and placing a strong emphasis on collaboration. Despite offering numerous integrations and add-ons, GitHub leans towards a more do-it-yourself (DIY) model. On the other hand, GitLab distinguishes itself by incorporating extensive DevOps and continuous integration/continuous delivery (CI/CD) features directly into the repository. Although lately GitHub has integrated tools for CI/CD.\n",
    "\n",
    "\n",
    "Originally conceived as an alternative to GitHub, GitLab has evolved over time, continually expanding its range of plans and features. GitLab strives for reliability and comprehensiveness, positioning itself as an all-encompassing platform. In contrast, GitHub, with its longer history, places a greater emphasis on performance and fostering collaborative teamwork."
   ]
  },
  {
   "cell_type": "markdown",
   "metadata": {},
   "source": [
    "### Let's create our remote repository!"
   ]
  },
  {
   "cell_type": "markdown",
   "metadata": {},
   "source": [
    "1. Let's create an account on [GitHub](github.com)\n",
    "2. Click on your profile picture (top-right) and select *\"Your repositories\"*\n",
    "3. Click on *\"New\"*\n",
    "4. Fill in the required fields, choose whether to include a \"README.md\" file, choose a license type and create the repository.\n",
    "\n",
    "    <center><img src=\"./assets/new_repo_step1.png\"/>"
   ]
  },
  {
   "cell_type": "markdown",
   "metadata": {},
   "source": [
    "### Now we have the remote repository, so we can connect our local repository!\n",
    "\n",
    "<center><img src=\"./assets/add_origin.png\"/>"
   ]
  },
  {
   "cell_type": "markdown",
   "metadata": {},
   "source": [
    "After connecting our local repository to the remote one, we can proceed with the **push into the master branch**: `git push -u origin master`"
   ]
  },
  {
   "cell_type": "markdown",
   "metadata": {},
   "source": [
    "Here's what our repository looks like after doing the first push:\n",
    "\n",
    "<center> <img src=\"./assets/new_repo_step2.png\" />"
   ]
  },
  {
   "cell_type": "markdown",
   "metadata": {},
   "source": [
    "## Let's finish the deal!"
   ]
  },
  {
   "cell_type": "markdown",
   "metadata": {},
   "source": [
    "Let's make a local edit to our README.md file and push it remotely."
   ]
  },
  {
   "cell_type": "markdown",
   "metadata": {},
   "source": [
    "<style>\n",
    "body {\n",
    "            font-family: 'Courier New', monospace;\n",
    "    }\n",
    "\n",
    "pre {\n",
    "            background-color: black;\n",
    "            padding: 10px;\n",
    "            border-radius: 5px;\n",
    "            overflow-x: auto;\n",
    "    }\n",
    "\n",
    "code {\n",
    "            color: lime;\n",
    "            background-color: black;\n",
    "            padding: 2px 4px;\n",
    "            border-radius: 3px;\n",
    "    }\n",
    "\n",
    "bashcomm {\n",
    "            color: aqua;\n",
    "            background-color: black;\n",
    "            padding: 2px 4px;\n",
    "            border-radius: 3px;\n",
    "    }\n",
    "</style>\n",
    "\n",
    "<bashcomm> ~$ cat README.md</bashcomm>\n",
    "\n",
    "<pre>\n",
    "<code>\n",
    "    Check our first commit!\n",
    "</code>\n",
    "</pre>\n",
    "\n",
    "<bashcomm> ~$ git status</bashcomm>\n",
    "\n",
    "<pre>\n",
    "<code>\n",
    "    Your branch is updated with respect to 'origin/master'.\n",
    "    Changes not in staging area for commit:\n",
    "    (use \"git add < file >...\" to update the items that will be committed)\n",
    "    (use \"git restore < file >...\" to discard changes to the working directory)\n",
    "    modified: README.md\n",
    "    no changes added to commit (use \"git add\" and/or \"git commit -a\")\n",
    "</code>\n",
    "</pre>\n",
    "\n",
    "<bashcomm> ~$ git add -A</bashcomm>\n",
    "\n",
    "<bashcomm> ~$ git commit --all -m README.md</bashcomm>\n",
    "\n",
    "<pre>\n",
    "<code>\n",
    "    [master a8d3f7f] README.md\n",
    "    1 file changed, 1 insertion(+)\n",
    "</code>\n",
    "</pre>\n",
    "\n",
    "<bashcomm> ~$ git push -u origin master</bashcomm>\n",
    "\n",
    "<pre>\n",
    "<code>\n",
    "    Enumerating objects: 5, done.\n",
    "    Object counting in progress: 100% (5/5), done.\n",
    "    Objects writing: 100% (3/3), 272 bytes | 272.00 KiB/s, done.\n",
    "    3 total objects (0 delta), 0 reused (0 delta), 0 reused in pack file\n",
    "    To https://github.com/.../MedicalImageProcessingAndNavigation.git\n",
    "    5cb79da..a8d3f7f  master -> master\n",
    "    branch 'master' set up to track 'origin/master'.\n",
    "</code>\n",
    "</pre>"
   ]
  },
  {
   "cell_type": "markdown",
   "metadata": {},
   "source": [
    "After updating the GitHub repository page, this is the result!\n",
    "\n",
    "<center> <img src=\"./assets/check_first_commit.png\"/>"
   ]
  },
  {
   "cell_type": "markdown",
   "metadata": {},
   "source": [
    "# Let's go further: what branches are and what they are used for"
   ]
  },
  {
   "cell_type": "markdown",
   "metadata": {},
   "source": [
    "<center> <img src=\"https://www.nobledesktop.com/image/gitresources/git-branches-merge.png\" />"
   ]
  },
  {
   "cell_type": "markdown",
   "metadata": {},
   "source": [
    "When you want to add a new feature or fix a bug, no matter how big or how small, **you must create a new branch to encapsulate your changes**. \n",
    "\n",
    "This makes it harder for unstable code to get merged into the main code base, and it gives you the chance to clean up your future's history before merging it into the main branch.\n",
    "\n",
    "**A branch represents an independent line of development**. Branches serve as an abstraction for the edit/stage/commit process. You can think of them as a way to request a brand new working directory, staging area, and project history. New commits are recorded in the history for the current branch, which results in a fork in the history of the project.\n",
    "\n",
    "It's important to understand that **branches are just pointers to commits**. When you create a branch, all Git needs to do is create a new pointer, it doesn’t change the repository in any other way. \n",
    "\n",
    "Once you’ve finished working on a branch and have merged it into the main code base, you’re free to delete the branch without losing any history.\n",
    "\n",
    "[Reference](https://www.atlassian.com/git/tutorials/using-branches)"
   ]
  },
  {
   "cell_type": "markdown",
   "metadata": {},
   "source": [
    "## Manage branches from the command line"
   ]
  },
  {
   "cell_type": "markdown",
   "metadata": {},
   "source": [
    "***Local branches***\n",
    "- **View branches**: `git branch`\n",
    "- **Create a branch**: `git branch branch_name`\n",
    "- **Move between the branches**: \n",
    "    \n",
    "    `git checkout branch_name` or `git switch branch_name`\n",
    "- **Create the branch and move to it**: \n",
    "    \n",
    "    `git checkout -b branch_name` or `git switch -c branch_name`\n",
    "\n",
    "***Remote branches***\n",
    "- **Download remote branches**: `git fetch`\n",
    "- **Share local branches remotely**: `git push origin branch_name`"
   ]
  },
  {
   "cell_type": "markdown",
   "metadata": {},
   "source": [
    "## Let's create a branch to introduce a new feature into the project"
   ]
  },
  {
   "cell_type": "markdown",
   "metadata": {},
   "source": [
    "<style>\n",
    "body {\n",
    "            font-family: 'Courier New', monospace;\n",
    "    }\n",
    "\n",
    "pre {\n",
    "            background-color: black;\n",
    "            padding: 10px;\n",
    "            border-radius: 5px;\n",
    "            overflow-x: auto;\n",
    "    }\n",
    "\n",
    "code {\n",
    "            color: lime;\n",
    "            background-color: black;\n",
    "            padding: 2px 4px;\n",
    "            border-radius: 3px;\n",
    "    }\n",
    "\n",
    "bashcomm {\n",
    "            color: aqua;\n",
    "            background-color: black;\n",
    "            padding: 2px 4px;\n",
    "            border-radius: 3px;\n",
    "    }\n",
    "</style>\n",
    "\n",
    "\n",
    "<bashcomm>~$ git branch feature/newAwesomeFeature </bashcomm>\n",
    "\n",
    "<bashcomm>~$ git branch </bashcomm>\n",
    "<pre>\n",
    "    <code>\n",
    "     feature/newAwesomeFeature\n",
    "     *master\n",
    "    </code>\n",
    "</pre>\n",
    "\n",
    "<bashcomm>~$ git switch feature/newAwesomeFeature</bashcomm>\n",
    "\n",
    "<bashcomm>~$ touch new_feature.py </bashcomm> (so we added something in the new local branch, which is not there in the starting branch)\n",
    "\n",
    "<bashcomm>~$ git add .  </bashcomm> (in this case we add all the modified files)\n",
    "\n",
    "<bashcomm>~$ git commit -m \"Added feature new_feature.py\" </bashcomm>\n",
    "<pre>\n",
    "    <code>\n",
    "    [feature/newAwesomeFeature 837cc0d] Added feature new_feature.py\n",
    "    1 file changed, 0 insertions(+), 0 deletions(-)\n",
    "    create mode 100644 new_feature.py\n",
    "    </code>\n",
    "</pre>\n",
    "\n",
    "\n",
    "<bashcomm>~$ git push -u origin feature/newAwesomeFeature </bashcomm>\n",
    "<pre>\n",
    "    <code>\n",
    "    Enumerating objects: 4, done.\n",
    "    Object counting in progress: 100% (4/4), done.\n",
    "    Delta compression in progress, using up to 20 threads\n",
    "    Compressing objects: 100% (2/2), done.\n",
    "    Writing objects: 100% (3/3), 296 bytes | 296.00 KiB/s, done.\n",
    "    3 total objects (0 delta), 0 reused (0 delta), 0 reused in pack file\n",
    "    To https://github.com/.../MedicalImageProcessingAndNavigation.git\n",
    "    a8d3f7f..837cc0d  feature/newAwesomeFeature -> feature/newAwesomeFeature\n",
    "    branch 'feature/newAwesomeFeature' set up to track 'origin/feature/newAwesomeFeature'. \n",
    "    </code>\n",
    "</pre>\n"
   ]
  },
  {
   "cell_type": "markdown",
   "metadata": {},
   "source": [
    "Let's also check the remote repository from GitHub:\n",
    "<center> <img src=\"./assets/branch_update.png\" />"
   ]
  },
  {
   "cell_type": "markdown",
   "metadata": {},
   "source": [
    "## Let's merge our changes to the main branch"
   ]
  },
  {
   "cell_type": "markdown",
   "metadata": {},
   "source": [
    "**Let's make sure we have the repository on which we are going to perform the merge updated with a git pull**:\n",
    "\n",
    "<style>\n",
    "body {\n",
    "            font-family: 'Courier New', monospace;\n",
    "    }\n",
    "\n",
    "pre {\n",
    "            background-color: black;\n",
    "            padding: 10px;\n",
    "            border-radius: 5px;\n",
    "            overflow-x: auto;\n",
    "    }\n",
    "\n",
    "code {\n",
    "            color: lime;\n",
    "            background-color: black;\n",
    "            padding: 2px 4px;\n",
    "            border-radius: 3px;\n",
    "    }\n",
    "\n",
    "bashcomm {\n",
    "            color: aqua;\n",
    "            background-color: black;\n",
    "            padding: 2px 4px;\n",
    "            border-radius: 3px;\n",
    "    }\n",
    "</style>\n",
    "\n",
    "\n",
    "<bashcomm>~$ git switch master</bashcomm>\n",
    "\n",
    "<pre>\n",
    "    <code>\n",
    "    Switched to 'master' branch\n",
    "    Your branch is updated compared to 'origin/master'.\n",
    "    </code>\n",
    "</pre>\n",
    "\n",
    "\n",
    "<bashcomm>~$ git pull<bashcomm>\n",
    "<pre>\n",
    "    <code>\n",
    "    Updated\n",
    "    </code>\n",
    "</pre>\n",
    "\n",
    "<bashcomm>~$ git merge feature/newAwesomeFeature</bashcomm>\n",
    "<pre>\n",
    "    <code>\n",
    "    Updating a8d3f7f..837cc0d\n",
    "\n",
    "    Fast-forward\n",
    "\n",
    "    new_feature.py | 0\n",
    "\n",
    "    1 file changed, 0 insertions(+), 0 deletions(-)\n",
    " \n",
    "    create mode 100644 new_feature.py\n",
    "    </code>\n",
    "</pre>\n",
    "\n",
    "Now that we have merged the two branches locally and brought the changes from the feature branch to the main one, let's update the master branch remotely\n",
    "\n",
    "<bashcomm>~$ git push origin master</bashcomm>"
   ]
  },
  {
   "cell_type": "markdown",
   "metadata": {},
   "source": [
    "And now let's check that the master branch actually contains the new change\n",
    "\n",
    "<center><img src=\"./assets/merge_feature.png\" />"
   ]
  },
  {
   "cell_type": "markdown",
   "metadata": {},
   "source": [
    "### Recap:\n",
    "\n",
    "**1.** we created a copy of a master branch called feature/newAwesomeFeature\n",
    "\n",
    "**2.** we moved to the new branch and added new code\n",
    "\n",
    "**3.** We committed the changes to the local feature/newAwesomeFeature branch\n",
    "\n",
    "**4.** We updated the remote feature/newAwesomeFeature branch\n",
    "\n",
    "**5.** we went to the master branch to update it (in the event that someone had modified the master branch before us)\n",
    "\n",
    "**6.** we merged the two branches locally:\n",
    "feature/newAwesomeFeature -> master\n",
    "\n",
    "**7.** we updated the master branch remotely"
   ]
  },
  {
   "cell_type": "markdown",
   "metadata": {},
   "source": [
    "# Introduction to Gitflow\n",
    "<center><img src=\"https://miro.medium.com/v2/resize:fit:1400/1*Q8MmK6j-P8Wb6T2zz0crJw.png\"/>"
   ]
  },
  {
   "cell_type": "markdown",
   "metadata": {},
   "source": [
    "## What is Gitflow?\n",
    "\n",
    "Gitflow is an alternative Git branching model that uses **feature branches** and **multiple primary branches**. \n",
    "\n",
    "It has numerous longer-lived branches and larger commits. With this model, developers create a feature branch and **postpone merging it into the main branch until the feature is complete**.\n",
    "\n",
    "Gitflow **can be used for projects with a planned release cycle**, and it does **not add new concepts or commands beyond what is required for the feature branch workflow**.\n",
    "\n",
    "It **assigns very specific roles to the different branches** and defines the ways and times of their interaction, i.e. \n",
    "- ***feature branches***\n",
    "- ***develop branch***\n",
    "- ***release*** branch\n",
    "- ***hotfix*** branch\n",
    "- ***master*** (production, **what people use**) branch."
   ]
  },
  {
   "cell_type": "markdown",
   "metadata": {},
   "source": [
    "## Why should you use Gitflow model when working in a team? \n",
    "It is widely known that the correct use of GitFlow ensures more ***efficient collaboration.*** Furthermore, the ***percentage of code conflicts drops dramatically*** and ***releases will be much easier to organize***.\n",
    "\n",
    "<h2>⚠️  Note </h2>\n",
    "\n",
    "**The correct use of Gitflow will be considered a plus during the evaluation of the project, since if used well it will allow you to clearly understand the developments of the project during the course.**"
   ]
  },
  {
   "cell_type": "markdown",
   "metadata": {},
   "source": [
    "<style>\n",
    "body {\n",
    "            font-family: 'Courier New', monospace;\n",
    "    }\n",
    "\n",
    "pre {\n",
    "            background-color: black;\n",
    "            padding: 10px;\n",
    "            border-radius: 5px;\n",
    "            overflow-x: auto;\n",
    "    }\n",
    "\n",
    "code {\n",
    "            color: lime;\n",
    "            background-color: black;\n",
    "            padding: 2px 4px;\n",
    "            border-radius: 3px;\n",
    "    }\n",
    "\n",
    "bashcomm {\n",
    "            color: aqua;\n",
    "            background-color: black;\n",
    "            border-radius: 3px;\n",
    "    }\n",
    "</style>\n",
    "\n",
    "## Let's try to understand something more, let's do it!\n",
    "\n",
    "Let's imagine we have just created our repository, we only have a \"main\" branch.\n",
    "\n",
    "Seguendo la logica del Gitflow, la prima cosa da fare è creare dei branch principali, dunque dovremmo creare:\n",
    "- ***master*** (or main) branch, in this case already present, will be the branch that will contain the code of our software visible to the public\n",
    "- ***hotfix*** branch, we will need it when we discover that we have a serious bug in our software (therefore in the code of the master branch) and we need to fix it without starting from the development branch, created starting from main:\n",
    "    <pre>\n",
    "    <bashcomm> \n",
    "        ~$ git checkout main\n",
    "        ~$ git checkout -b hotfix \n",
    "    </bashcomm>\n",
    "    </pre>\n",
    "    \n",
    "- ***release*** branch, we will need it to test our code before publishing it (therefore moving it to the master/main branch)\n",
    "    <pre>\n",
    "    <bashcomm> \n",
    "        ~$ git checkout main\n",
    "        ~$ git checkout -b release \n",
    "    </bashcomm>\n",
    "    </pre>\n",
    "\n",
    "- ***develop*** branch, the starting point of each new feature, it represents the branch on which all the new functions and non-urgent bug fixes come together\n",
    "    <pre>\n",
    "    <bashcomm> \n",
    "        ~$ git checkout main\n",
    "        ~$ git checkout -b develop \n",
    "    </bashcomm>\n",
    "    </pre>"
   ]
  },
  {
   "cell_type": "markdown",
   "metadata": {},
   "source": [
    "<style>\n",
    "body {\n",
    "            font-family: 'Courier New', monospace;\n",
    "    }\n",
    "\n",
    "pre {\n",
    "            background-color: black;\n",
    "            padding: 10px;\n",
    "            border-radius: 5px;\n",
    "            overflow-x: auto;\n",
    "    }\n",
    "\n",
    "code {\n",
    "            color: lime;\n",
    "            background-color: black;\n",
    "            padding: 2px 4px;\n",
    "            border-radius: 3px;\n",
    "    }\n",
    "\n",
    "bashcomm {\n",
    "            color: aqua;\n",
    "            background-color: black;\n",
    "            border-radius: 3px;\n",
    "    }\n",
    "</style>\n",
    "\n",
    "Now that we have our main branches aligned with each other, we can start developing each new feature by creating a dedicated branch, for example:\n",
    "- feature A\n",
    "\n",
    "    <pre>\n",
    "    <bashcomm> \n",
    "        ~$ git checkout develop\n",
    "        ~$ git checkout -b feature/featureA </bashcomm>\n",
    "    </pre>\n",
    "\n",
    "- feature B\n",
    "\n",
    "    <pre>\n",
    "    <bashcomm> \n",
    "        ~$ git checkout develop\n",
    "        ~$ git checkout -b feature/featureB </bashcomm>\n",
    "    </pre>\n",
    "and so on!"
   ]
  },
  {
   "cell_type": "markdown",
   "metadata": {},
   "source": [
    "<style>\n",
    "body {\n",
    "            font-family: 'Courier New', monospace;\n",
    "    }\n",
    "\n",
    "pre {\n",
    "            background-color: black;\n",
    "            padding: 10px;\n",
    "            border-radius: 5px;\n",
    "            overflow-x: auto;\n",
    "    }\n",
    "\n",
    "code {\n",
    "            color: lime;\n",
    "            background-color: black;\n",
    "            padding: 2px 4px;\n",
    "            border-radius: 3px;\n",
    "    }\n",
    "\n",
    "bashcomm {\n",
    "            color: aqua;\n",
    "            background-color: black;\n",
    "            border-radius: 3px;\n",
    "    }\n",
    "</style>\n",
    "\n",
    "## Merge features in develop \n",
    "\n",
    "I have completed development on the branch dedicated to my feature, what do I do? \n",
    "\n",
    "⚠️ It is important to remember that while we were developing on our feature branch, **in the meantime other team members will have updated the develop branch we started from**! ⚠️ \n",
    "\n",
    "What do we need to do to merge our code to the development branch safely? Simple!\n",
    "\n",
    "1. First, ***do not forget to push our local changes remotely***\n",
    "    <pre>\n",
    "    <bashcomm>\n",
    "        ~$ git add .\n",
    "        ~$ git commit -m \"Updated something to develop feature/featureA\"\n",
    "        ~$ git push origin feature/featureA\n",
    "    </bashcomm>\n",
    "    </pre>\n",
    "2. Let's **move on to the branch we started from**, so if we are in the feature branch we should have started from develop\n",
    "    <pre>\n",
    "    <bashcomm>\n",
    "        ~$ git checkout develop\n",
    "    </bashcomm>\n",
    "    </pre>\n",
    "3. ATTENTION, this version of develop is the local one, it may not be updated, so we ** ask Git to update the develop branch before merging our changes**:   \n",
    "    <pre>\n",
    "    <bashcomm>\n",
    "        ~$ git fetch origin develop\n",
    "        ~$ git pull origin develop\n",
    "    </bashcomm>\n",
    "    </pre>\n",
    "4. Now we are sure we have an updated version of the branch on which we are about to merge our changes, **we can bring our changes into develop, merging our code with the one already present** (and possibly fix any conflicts if someone has modified the same lines as us code): \n",
    "    <pre>\n",
    "    <bashcomm>\n",
    "        ~$ git merge feature/featureA\n",
    "    </bashcomm>\n",
    "    </pre>\n",
    "6. If everything went well, **at this point we will have the code written to develop featureA in develop and we can update the remote develop branch**: \n",
    "    <pre>\n",
    "    <bashcomm>\n",
    "        ~$ git add .\n",
    "        ~$ git commit -m \"Merge feature/featureA into develop\"\n",
    "        ~$ git push origin develop\n",
    "    </bashcomm>\n",
    "    </pre>"
   ]
  },
  {
   "cell_type": "markdown",
   "metadata": {},
   "source": [
    "<style>\n",
    "body {\n",
    "            font-family: 'Courier New', monospace;\n",
    "    }\n",
    "\n",
    "pre {\n",
    "            background-color: black;\n",
    "            padding: 10px;\n",
    "            border-radius: 5px;\n",
    "            overflow-x: auto;\n",
    "    }\n",
    "\n",
    "code {\n",
    "            color: lime;\n",
    "            background-color: black;\n",
    "            padding: 2px 4px;\n",
    "            border-radius: 3px;\n",
    "    }\n",
    "\n",
    "bashcomm {\n",
    "            color: aqua;\n",
    "            background-color: black;\n",
    "            border-radius: 3px;\n",
    "    }\n",
    "</style>\n",
    "\n",
    "## Create a new release\n",
    "To create a new release to test, all we need to do is start from the updated version of develop and create a branch in the release branch. \n",
    "\n",
    "**It is good practice to call the release branch with the name of the version we are testing**:\n",
    "\n",
    "<pre>\n",
    "<bashcomm>    ~$ git checkout develop\n",
    "    ~$ git checkout -b release/v0.1.0\n",
    "</bashcomm>\n",
    "</pre>"
   ]
  },
  {
   "cell_type": "markdown",
   "metadata": {},
   "source": [
    "### What if we make a change in test (release) directly?\n",
    "If we are testing our code but there is something that we need to change before sending it to production, the change can be made directly on release **but following the change we will always have to align the develop branch**\n",
    "<center><img src=\"./assets/update_release.png\" />"
   ]
  },
  {
   "cell_type": "markdown",
   "metadata": {},
   "source": [
    "# 🚩 Project bonus - Agile methodology and Scrum 👀\n",
    "\n",
    "<center><img src=\"https://www.nimblework.com/wp-content/uploads/2022/12/scrum-methodology.webp\" /></center>\n",
    "\n",
    "\n",
    "**Scrum** is a management framework that teams use to self-organize and work toward a common goal. It describes a series of meetings, tools and roles for efficient project delivery.\n",
    "\n",
    "**Sprints** sit at the core of the Scrum Agile software development process and are where the actual work gets done. They are time-boxed and should be under a month and preferably 2-3 weeks to maintain the focus needed for a consistently efficient rate of progress towards the Product Goal. Sprints follow the rules:\n",
    "\n",
    "- No changes are made that would endanger the Sprint Goal;\n",
    "- Quality does not decrease;\n",
    "- The Product Backlog is refined as needed;\n",
    "\n",
    "**Daily Scrum**: time-boxed 15-minute morning meeting that takes place, without fail, **every working day at the same time** and, if at all possible, in the same place. It is designed as an event that keeps the focus on progress towards the Sprint Goal in a way that promotes self-organisation and accountability of individual developers to each other and the Development Team as a whole.\n",
    "A Daily Scrum can often simply consist of each member of the Development Team asking and answering three questions:\n",
    "\n",
    "- What did you do yesterday?\n",
    "- What will you do today?\n",
    "- Are there any impediments in your way?\n",
    "\n",
    "**Sprint Review** is all about celebrating the team and demonstrating what their work has accomplished. At the end of the sprint, the Scrum Team presents the results of their work to each other as well as any external stakeholders the Product Owner feels it is appropriate to involve. Based on the information presented and discussed at the Scrum Review, attendees collaborate on what should be done next. The Sprint Review is the penultimate event of a Scrum development cycle and is time-boxed to a maximum duration of 4 hours, in the case of a 1-month Sprint, but is usually shorter. **The end result of the Review should be an updated Product Backlog and a provisional list of the items to be tackled during the next Sprint**.\n",
    "\n",
    "\n",
    "The **three main Scrum artifacts** are:\n",
    "\n",
    "- **Product Backlog**: is an evolving list, with items in order of priority, of all the tasks that need to be completed to improve the software product. It acts as the single source of work executed by the Scrum Team, whose members should never be working on anything that is not a Product Item backlog. The items in the Product Backlog should all make a meaningful contribution to achieving the Product Goal.\n",
    "- **Sprint Backlog**: consists of the highest priority items from the Product Backlog chosen for completion during the current Sprint. The items in the Sprint Backlog should correspond to the Sprint Goal, answering ‘why?’ they are there and be underpinned by an actionable plan of how they will be delivered.\n",
    "- **Increment**, must represent a concrete step towards the Product Goal and must consist of usable new Stories that work together with existing increments to improve the software product.\n",
    "\n",
    "\n",
    "[Reference](https://kruschecompany.com/agile-software-development-with-scrum-framework/#Sprint_Planning)"
   ]
  },
  {
   "cell_type": "markdown",
   "metadata": {},
   "source": [
    "# During the development of the project, the teams that used an \"Agile\" approach, Scrum and GitFlow framework for the development of the project, will be positively evaluated"
   ]
  },
  {
   "cell_type": "markdown",
   "metadata": {},
   "source": [
    "# What should you have learned from this lesson?\n",
    "- ### What is Git and why it is used\n",
    "- ### What is a repository\n",
    "- ### What are the basic commands that allow us to use Git\n",
    "- ### What are branches and how to use them\n",
    "- ### What is GitFlow and why it is used\n",
    "- ### How to use GitFlow\n"
   ]
  }
 ],
 "metadata": {
  "kernelspec": {
   "display_name": "Python 3",
   "language": "python",
   "name": "python3"
  },
  "language_info": {
   "name": "python",
   "version": "3.10.12"
  }
 },
 "nbformat": 4,
 "nbformat_minor": 2
}
